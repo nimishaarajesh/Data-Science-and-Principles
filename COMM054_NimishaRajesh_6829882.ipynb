{
 "cells": [
  {
   "cell_type": "markdown",
   "id": "822dade9",
   "metadata": {},
   "source": [
    "# COMM054 COURSEWORK ASSIGNMENT"
   ]
  },
  {
   "cell_type": "markdown",
   "id": "82d042aa",
   "metadata": {},
   "source": [
    ">- **Name**        : Nimisha Rajesh\n",
    ">- **Student ID**  : 6829882"
   ]
  },
  {
   "cell_type": "markdown",
   "id": "9555ba09",
   "metadata": {},
   "source": [
    "# Coursework Overview"
   ]
  },
  {
   "cell_type": "markdown",
   "id": "d4a92e77",
   "metadata": {},
   "source": [
    "A dataset is provided where each row correcsponds to a protein and each variable corresponds to its property.Target variable, C denoted whether that particular protein is present inside or outside the membrane\n",
    "- **Data**        : Describes the properties of proteins found in the bacteria Escherichia coli. <br>\n",
    "- **Source**      : The data is sourced from the UC Irvine Machine Learning Repository, Nakai,Kenta. (1996). Ecoli. UCI Machine Learning Repository <br>\n",
    "- **Features**    : Data set contains a set of 5 features<br>\n",
    "- **Task**        : Develop a model that can predict the location of a protein - C, based on the features - X1 to X5<br>\n",
    "- **Target Variable**    : Column- C is considered as the target variable where value 0 refers to proteins located in the inner membrane and located in the perisplasm are labelled as 1<br>\n",
    "- **Models**      : Naive Bayers & Logistic Regression<br>\n",
    "- **Evaluation**  : Accuracy, Precision, F1 score, Confusion Metrix , Recall ,Recall-Precision curve and ROC <br>"
   ]
  },
  {
   "cell_type": "markdown",
   "id": "0b9d52b3",
   "metadata": {},
   "source": [
    "# Importing Library Functions and Data "
   ]
  },
  {
   "cell_type": "code",
   "execution_count": 2,
   "id": "b147ee0c",
   "metadata": {},
   "outputs": [],
   "source": [
    "#Importing basic library functions for Processing the data\n",
    "import numpy as np \n",
    "import pandas as pd\n",
    "from scipy import stats\n",
    "from sklearn.preprocessing import OrdinalEncoder\n",
    "from imblearn.over_sampling import SMOTE\n",
    "\n",
    "#Importing library functions responsible for the model building\n",
    "from sklearn.naive_bayes import GaussianNB\n",
    "from sklearn.linear_model import LogisticRegression\n",
    "from sklearn.model_selection import train_test_split\n",
    "#from sklearn.ensemble import RandomForestClassifier\n",
    "\n",
    "#Importing library functions responsible for the models evaluation\n",
    "from sklearn.model_selection import cross_val_score, StratifiedKFold\n",
    "from sklearn.metrics import precision_score, recall_score, f1_score,precision_recall_curve\n",
    "from sklearn.metrics import accuracy_score, classification_report, confusion_matrix,roc_curve,auc\n",
    "\n",
    "#Importing library functions used for visualization\n",
    "import matplotlib.pyplot as plt\n",
    "import seaborn as sns\n",
    "from IPython.display import display, HTML"
   ]
  },
  {
   "cell_type": "code",
   "execution_count": 3,
   "id": "65ff8047",
   "metadata": {},
   "outputs": [],
   "source": [
    "#Input the data from the csv to notebook\n",
    "ecoli_data = pd.read_csv('ecoli.csv')"
   ]
  },
  {
   "cell_type": "code",
   "execution_count": 4,
   "id": "2e068f41",
   "metadata": {},
   "outputs": [
    {
     "data": {
      "text/html": [
       "<div>\n",
       "<style scoped>\n",
       "    .dataframe tbody tr th:only-of-type {\n",
       "        vertical-align: middle;\n",
       "    }\n",
       "\n",
       "    .dataframe tbody tr th {\n",
       "        vertical-align: top;\n",
       "    }\n",
       "\n",
       "    .dataframe thead th {\n",
       "        text-align: right;\n",
       "    }\n",
       "</style>\n",
       "<table border=\"1\" class=\"dataframe\">\n",
       "  <thead>\n",
       "    <tr style=\"text-align: right;\">\n",
       "      <th></th>\n",
       "      <th>X1</th>\n",
       "      <th>X2</th>\n",
       "      <th>X3</th>\n",
       "      <th>X4</th>\n",
       "      <th>X5</th>\n",
       "      <th>C</th>\n",
       "    </tr>\n",
       "  </thead>\n",
       "  <tbody>\n",
       "    <tr>\n",
       "      <th>0</th>\n",
       "      <td>-0.007564</td>\n",
       "      <td>0.222171</td>\n",
       "      <td>0.158978</td>\n",
       "      <td>1.159728</td>\n",
       "      <td>0.267387</td>\n",
       "      <td>0</td>\n",
       "    </tr>\n",
       "    <tr>\n",
       "      <th>1</th>\n",
       "      <td>0.171858</td>\n",
       "      <td>-0.041690</td>\n",
       "      <td>0.250635</td>\n",
       "      <td>0.165851</td>\n",
       "      <td>0.461043</td>\n",
       "      <td>0</td>\n",
       "    </tr>\n",
       "    <tr>\n",
       "      <th>2</th>\n",
       "      <td>0.736046</td>\n",
       "      <td>0.343963</td>\n",
       "      <td>0.749114</td>\n",
       "      <td>0.561858</td>\n",
       "      <td>0.712554</td>\n",
       "      <td>0</td>\n",
       "    </tr>\n",
       "    <tr>\n",
       "      <th>3</th>\n",
       "      <td>0.000639</td>\n",
       "      <td>-0.175082</td>\n",
       "      <td>0.070584</td>\n",
       "      <td>0.317284</td>\n",
       "      <td>0.582597</td>\n",
       "      <td>0</td>\n",
       "    </tr>\n",
       "    <tr>\n",
       "      <th>4</th>\n",
       "      <td>0.571760</td>\n",
       "      <td>-0.244216</td>\n",
       "      <td>0.234515</td>\n",
       "      <td>0.902095</td>\n",
       "      <td>0.594026</td>\n",
       "      <td>0</td>\n",
       "    </tr>\n",
       "  </tbody>\n",
       "</table>\n",
       "</div>"
      ],
      "text/plain": [
       "         X1        X2        X3        X4        X5  C\n",
       "0 -0.007564  0.222171  0.158978  1.159728  0.267387  0\n",
       "1  0.171858 -0.041690  0.250635  0.165851  0.461043  0\n",
       "2  0.736046  0.343963  0.749114  0.561858  0.712554  0\n",
       "3  0.000639 -0.175082  0.070584  0.317284  0.582597  0\n",
       "4  0.571760 -0.244216  0.234515  0.902095  0.594026  0"
      ]
     },
     "execution_count": 4,
     "metadata": {},
     "output_type": "execute_result"
    }
   ],
   "source": [
    "#Get the first 5 rows of data through built-in function\n",
    "ecoli_data.head()"
   ]
  },
  {
   "cell_type": "code",
   "execution_count": 5,
   "id": "1a2f33d2",
   "metadata": {},
   "outputs": [
    {
     "data": {
      "text/plain": [
       "(129, 6)"
      ]
     },
     "execution_count": 5,
     "metadata": {},
     "output_type": "execute_result"
    }
   ],
   "source": [
    "#Get the dimension of data\n",
    "ecoli_data.shape"
   ]
  },
  {
   "cell_type": "code",
   "execution_count": 6,
   "id": "293bc052",
   "metadata": {},
   "outputs": [
    {
     "data": {
      "text/plain": [
       "Index(['X1', 'X2', 'X3', 'X4', 'X5', 'C'], dtype='object')"
      ]
     },
     "execution_count": 6,
     "metadata": {},
     "output_type": "execute_result"
    }
   ],
   "source": [
    "#Get the names of columns present in the data with their type\n",
    "ecoli_data.columns"
   ]
  },
  {
   "cell_type": "code",
   "execution_count": 7,
   "id": "3da9f86f",
   "metadata": {},
   "outputs": [
    {
     "name": "stdout",
     "output_type": "stream",
     "text": [
      "<class 'pandas.core.frame.DataFrame'>\n",
      "RangeIndex: 129 entries, 0 to 128\n",
      "Data columns (total 6 columns):\n",
      " #   Column  Non-Null Count  Dtype  \n",
      "---  ------  --------------  -----  \n",
      " 0   X1      129 non-null    float64\n",
      " 1   X2      129 non-null    float64\n",
      " 2   X3      129 non-null    float64\n",
      " 3   X4      129 non-null    float64\n",
      " 4   X5      129 non-null    float64\n",
      " 5   C       129 non-null    int64  \n",
      "dtypes: float64(5), int64(1)\n",
      "memory usage: 6.2 KB\n",
      "None\n"
     ]
    }
   ],
   "source": [
    "#Get the summary of data structure\n",
    "print(ecoli_data.info()) "
   ]
  },
  {
   "cell_type": "code",
   "execution_count": 8,
   "id": "af2b7d88",
   "metadata": {},
   "outputs": [
    {
     "name": "stdout",
     "output_type": "stream",
     "text": [
      "               X1          X2          X3          X4          X5           C\n",
      "count  129.000000  129.000000  129.000000  129.000000  129.000000  129.000000\n",
      "mean     0.539102    0.597149    0.521040    0.686822    0.565779    0.403101\n",
      "std      0.478155    0.433768    0.378367    0.438045    0.412171    0.492433\n",
      "min     -0.430791   -0.281866   -0.263064   -0.600203   -0.484916    0.000000\n",
      "25%      0.180917    0.284631    0.250635    0.416989    0.267387    0.000000\n",
      "50%      0.559401    0.535186    0.495043    0.716888    0.568919    0.000000\n",
      "75%      0.826496    0.864219    0.793372    0.962953    0.836665    1.000000\n",
      "max      2.044694    1.711213    1.486272    1.743930    1.848438    1.000000\n"
     ]
    }
   ],
   "source": [
    "#Get the distribution of data across columns\n",
    "print(ecoli_data.describe())  "
   ]
  },
  {
   "cell_type": "markdown",
   "id": "b15915f8",
   "metadata": {},
   "source": [
    "# Data Quality Check"
   ]
  },
  {
   "cell_type": "markdown",
   "id": "9952040e",
   "metadata": {},
   "source": [
    "> - Data Quality Check is the first and foremost step done before any modeling process.\n",
    "> - It is done to ensure data is reliable, complete and suitable for the required purpose. \n",
    "> - It also helps to identify inconsistencies which might lead to incorrect assumptions or flawed models.\n",
    "> - Also in simple, poor data leads to biased models and hence data cleaning is a must step to be performed.\n",
    "> - It involves checking and handling null/missing data, inconsistent values, duplicates, and outliers. "
   ]
  },
  {
   "cell_type": "markdown",
   "id": "fe3be5f1",
   "metadata": {},
   "source": [
    "## Null Value Check "
   ]
  },
  {
   "cell_type": "code",
   "execution_count": 9,
   "id": "7ca9b754",
   "metadata": {},
   "outputs": [
    {
     "name": "stdout",
     "output_type": "stream",
     "text": [
      "\n",
      "Number of Null Values across the data: \n",
      "X1    0\n",
      "X2    0\n",
      "X3    0\n",
      "X4    0\n",
      "X5    0\n",
      "C     0\n",
      "dtype: int64\n"
     ]
    }
   ],
   "source": [
    "#Get the sum of all null values present in each column\n",
    "print(f\"\\nNumber of Null Values across the data: \")\n",
    "print(ecoli_data.isnull().sum())"
   ]
  },
  {
   "cell_type": "markdown",
   "id": "778d7e77",
   "metadata": {},
   "source": [
    "## Duplicate Value Check"
   ]
  },
  {
   "cell_type": "code",
   "execution_count": 10,
   "id": "a8ffda5f",
   "metadata": {
    "scrolled": true
   },
   "outputs": [
    {
     "name": "stdout",
     "output_type": "stream",
     "text": [
      "\n",
      "Number of Duplicate Instances: 0\n"
     ]
    }
   ],
   "source": [
    "#Get the sum of duplicate values present in the data\n",
    "num_duplicates = ecoli_data.duplicated().sum()\n",
    "print(f\"\\nNumber of Duplicate Instances: {num_duplicates}\")"
   ]
  },
  {
   "cell_type": "markdown",
   "id": "90bcd41c",
   "metadata": {},
   "source": [
    "## Outlier Check"
   ]
  },
  {
   "cell_type": "code",
   "execution_count": 11,
   "id": "aea2fc0e",
   "metadata": {},
   "outputs": [
    {
     "name": "stdout",
     "output_type": "stream",
     "text": [
      "Outliers: 0\n",
      "Outliers: 0\n",
      "Outliers: 0\n",
      "Outliers: 0\n",
      "Outliers: 0\n"
     ]
    }
   ],
   "source": [
    "#Get the number of outliers across each column to reduce any errors and increase performance\n",
    "def check_outliers(column):\n",
    "    \n",
    "    # Calculate the first quartile (Q1), third quartile (Q3) and interquartile range (IQR)\n",
    "    Q1 = column.quantile(0.10)\n",
    "    Q3 = column.quantile(0.90)\n",
    "    IQR = Q3 - Q1\n",
    "    # Calculate the lower and upper bounds\n",
    "    lower_bound = Q1 - 1.5 * IQR\n",
    "    upper_bound = Q3 + 1.5 * IQR\n",
    "    # Check for outliers\n",
    "    outliers = column[(column < lower_bound) | (column > upper_bound)]\n",
    "    \n",
    "    return outliers\n",
    "\n",
    "#Check outliers for every column in data\n",
    "\n",
    "outliers = check_outliers(ecoli_data['X1'])\n",
    "print(\"Outliers:\", sum(outliers))\n",
    "outliers = check_outliers(ecoli_data['X2'])\n",
    "print(\"Outliers:\", sum(outliers))\n",
    "outliers = check_outliers(ecoli_data['X3'])\n",
    "print(\"Outliers:\",sum(outliers))\n",
    "outliers = check_outliers(ecoli_data['X4'])\n",
    "print(\"Outliers:\", sum(outliers))\n",
    "outliers = check_outliers(ecoli_data['X5'])\n",
    "print(\"Outliers:\", sum(outliers))"
   ]
  },
  {
   "cell_type": "markdown",
   "id": "7cd3bdf4",
   "metadata": {},
   "source": [
    "## Imbalance Treatment "
   ]
  },
  {
   "cell_type": "code",
   "execution_count": 12,
   "id": "f12b91cc",
   "metadata": {},
   "outputs": [
    {
     "name": "stdout",
     "output_type": "stream",
     "text": [
      "Class Distribution:\n",
      "C\n",
      "0    0.601942\n",
      "1    0.398058\n",
      "Name: proportion, dtype: float64\n",
      "\n",
      "Class Distribution After SMOTE Oversampling:\n",
      "C\n",
      "0    0.5\n",
      "1    0.5\n",
      "Name: proportion, dtype: float64\n"
     ]
    }
   ],
   "source": [
    "#Define variables and target variable separately\n",
    "X=ecoli_data[['X1', 'X2', 'X3', 'X4', 'X5']]\n",
    "y=ecoli_data['C']\n",
    "\n",
    "# Split the data into training and test sets to check class distribution\n",
    "X_train, X_test, y_train, y_test = train_test_split(X, y, test_size=0.2, random_state=42)\n",
    "print(\"Class Distribution:\")\n",
    "print(pd.Series(y_train).value_counts(normalize=True))\n",
    "\n",
    "# Oversampling : Distribution Treatment \n",
    "smote = SMOTE(random_state=42)\n",
    "X_resampled_smote, y_resampled_smote = smote.fit_resample(X_train, y_train)\n",
    "\n",
    "# Display class distribution after oversampling\n",
    "print(\"\\nClass Distribution After SMOTE Oversampling:\")\n",
    "print(pd.Series(y_resampled_smote).value_counts(normalize=True))"
   ]
  },
  {
   "cell_type": "markdown",
   "id": "bf323079",
   "metadata": {},
   "source": [
    "# Classification Methods"
   ]
  },
  {
   "cell_type": "markdown",
   "id": "49751141",
   "metadata": {},
   "source": [
    "## Data Splitting"
   ]
  },
  {
   "cell_type": "markdown",
   "id": "0d3cdd45",
   "metadata": {},
   "source": [
    ">- This involves splitting the dataset into features (X) and the target variable (y) which will further be divided into Training and Testing sets using 'train_test_split' function.\n",
    ">- This train-test data can be further be used for model building and training"
   ]
  },
  {
   "cell_type": "code",
   "execution_count": 13,
   "id": "97c263b8",
   "metadata": {},
   "outputs": [],
   "source": [
    "# Split the data into features (X) and target variable (y)\n",
    "X = ecoli_data.drop('C', axis=1)\n",
    "y = ecoli_data['C']\n",
    "\n",
    "# Split the data into training and testing sets\n",
    "X_train, X_test, y_train, y_test = train_test_split(X, y, test_size=0.2, random_state=42)"
   ]
  },
  {
   "cell_type": "markdown",
   "id": "ad2c282b",
   "metadata": {},
   "source": [
    "## Naive Bayes"
   ]
  },
  {
   "cell_type": "markdown",
   "id": "e106f883",
   "metadata": {},
   "source": [
    ">- Naive Bayes algorithm is simple yet powerful classification algorithm which is quite effective in many real-world scenarios.\n",
    ">- Naive Bayes algorithm is based on fundamental probability theory ,Bayes theorem : Estimate the probability of an event A based on event B which is known. It is represented as : <br> P(A | B) = (P(B | A) * P(A)) / P(B)\n",
    ">- It also assumes that the presence of a particular feature in a class is independent of the presence of other features.\n",
    ">- Through this , we can define Naive Bayes algorith as :<br> **P(y | x) = (P(x | y) * P(y)) / P(x)**     , where <br> - P(y|x) is the posterior probability of the class y given the observed features x. <br> -P(x|y) is the posterior probability of observing the features x given the class y.<br> - P(y) is the probability of the class y without considering the features.<br> - P(x) is the probability of features x, irrespective of the class.\n",
    ">- There are 3 types of Naive Bayes models which is supposed to be chosen based on the nature of variable present in the data .\n",
    "><ol>\n",
    "><li>Gaussian Naive Bayes: Assumes that the features follow a normal distribution.Suitable for continuous or numerical features.</li>\n",
    "><li> Multinomial Naive Bayes: Assumes that features are discrete and represent counts (e.g., word frequencies in text classification). Commonly used in text classification problems where features are counts or frequencies.</li>\n",
    "><li> Bernoulli Naive Bayes: Assumes that features are binary (i.e., presence or absence).Often used in text classification tasks where the presence or absence of words is considered.</li>"
   ]
  },
  {
   "cell_type": "markdown",
   "id": "4c42c736",
   "metadata": {},
   "source": [
    "### Modeling"
   ]
  },
  {
   "cell_type": "markdown",
   "id": "34541fc4",
   "metadata": {},
   "source": [
    ">-I have considered to build a Gaussian Model on the given dataset as the features are continuous and also variables in data follow a normal distribution. I am also assuming that the features are independent of each other in order to build the model.\n",
    ">-In this context, the Naive Bayes Equation is as follows: <br> **$P(location | protein feature)= (P(protein feature | location) * P(location)) / P(protein feature)$** , where <br> - P(location | protein feature) :Probability of the protein being located in a location when the feature is known  <br> - (P(protein feature | location) : Probability of specific feature value given the protein location is known <br> - P(location) : Probability of protein being located in a location independent of features  <br> - P(protein feature) : Probability of observing feature independent of the class"
   ]
  },
  {
   "cell_type": "code",
   "execution_count": 14,
   "id": "a5648601",
   "metadata": {},
   "outputs": [],
   "source": [
    "# Initialize Gaussian Naive Bayes model followed by fitting and training\n",
    "#Fit the model using X_train and y_train data\n",
    "#Predict the target variaable using the fitted model\n",
    "nb_model = GaussianNB()\n",
    "nb_model.fit(X_train, y_train)               \n",
    "y_pred_nb = nb_model.predict(X_test)"
   ]
  },
  {
   "cell_type": "markdown",
   "id": "bd015724",
   "metadata": {},
   "source": [
    "### Evaluation"
   ]
  },
  {
   "cell_type": "code",
   "execution_count": 15,
   "id": "0c3ba955",
   "metadata": {},
   "outputs": [
    {
     "name": "stdout",
     "output_type": "stream",
     "text": [
      "Accuracy: 0.62\n",
      "\n",
      "Confusion Matrix:\n",
      " [[13  2]\n",
      " [ 8  3]]\n"
     ]
    }
   ],
   "source": [
    "# Evaluate the model by calculating the accuracy and getting confusion metrix\n",
    "accuracy_nb = accuracy_score(y_test, y_pred_nb)\n",
    "confusion_mat_nb = confusion_matrix(y_test, y_pred_nb)\n",
    "print(f\"Accuracy: {accuracy_nb:.2f}\")\n",
    "print(\"\\nConfusion Matrix:\\n\", confusion_mat_nb)"
   ]
  },
  {
   "cell_type": "markdown",
   "id": "bcd5c8e0",
   "metadata": {},
   "source": [
    "<i>Whether 62% accuracy is considered good for a Gaussian Naive Bayes model </i>\n",
    ">- 62% accuracy might be considered satisfactory <br>\n",
    ">- Consider the baseline accuracy, which is the accuracy achieved by a random classifier. For binary classification, random chance would yield 50% accuracy. In this context, 62% suggests some predictive power beyond random chance.<br>\n",
    ">- We can compare LR model's accuracy with other similar model. This helps in understanding how well the model performs relative to existing standards.<br>\n",
    ">- We can also investigate further by understanding feature importance, and identifying potential areas for improvement or model tuning."
   ]
  },
  {
   "cell_type": "markdown",
   "id": "e36b2d66",
   "metadata": {},
   "source": [
    "## Logistic Regression"
   ]
  },
  {
   "cell_type": "markdown",
   "id": "9fe70946",
   "metadata": {},
   "source": [
    ">- Logistic Regression is a popular statistical method used mainly for binary classification problems.\n",
    ">- Model takes in specific input variables, examins its relation with the binary outcome(0/1) and then calculates the probability of outcome being in one of the categories"
   ]
  },
  {
   "cell_type": "markdown",
   "id": "aae74e80",
   "metadata": {},
   "source": [
    "### Modeling"
   ]
  },
  {
   "cell_type": "code",
   "execution_count": 16,
   "id": "07f141e7",
   "metadata": {},
   "outputs": [],
   "source": [
    "# Initialize Gaussian Naive Bayes model followed by fitting and training\n",
    "#Fit the model using X_train and y_train data\n",
    "#Predict the target variaable using the fitted model\n",
    "lr_model = LogisticRegression()\n",
    "lr_model.fit(X_train, y_train)\n",
    "y_pred_lr = lr_model.predict(X_test)"
   ]
  },
  {
   "cell_type": "markdown",
   "id": "b437a921",
   "metadata": {},
   "source": [
    "### Evaluation"
   ]
  },
  {
   "cell_type": "code",
   "execution_count": 17,
   "id": "f7689c07",
   "metadata": {},
   "outputs": [
    {
     "name": "stdout",
     "output_type": "stream",
     "text": [
      "Accuracy: 0.69\n",
      "\n",
      "Confusion Matrix:\n",
      " [[13  2]\n",
      " [ 6  5]]\n"
     ]
    }
   ],
   "source": [
    "# Evaluate the model by calculating the accuracy and getting confusion metrix\n",
    "accuracy_lr = accuracy_score(y_test, y_pred_lr)\n",
    "confusion_mat_lr = confusion_matrix(y_test, y_pred_lr)\n",
    "print(f\"Accuracy: {accuracy_lr:.2f}\")\n",
    "print(\"\\nConfusion Matrix:\\n\", confusion_mat_lr)"
   ]
  },
  {
   "cell_type": "markdown",
   "id": "97dff4bf",
   "metadata": {},
   "source": [
    "# Performance Comparison"
   ]
  },
  {
   "cell_type": "markdown",
   "id": "dc752c09",
   "metadata": {},
   "source": [
    "## Basic Metrices "
   ]
  },
  {
   "cell_type": "markdown",
   "id": "10137e6c",
   "metadata": {},
   "source": [
    ">1. Precision :  Measures the accuracy of the positive predictions, emphasizing the proportion of true positives among all predicted positives.It indicates the model's ability to make positive predictions correctly\n",
    ">2. Recall :  Measures the ability of the model to capture all positive instances, emphasizing the proportion of true positives among all actual positives.It indicates the model's ability to capture all positive instances\n",
    ">3. F1 Score : The harmonic mean of precision and recall, providing a balance between the two metrics."
   ]
  },
  {
   "cell_type": "code",
   "execution_count": 18,
   "id": "8b7e2355",
   "metadata": {
    "scrolled": true
   },
   "outputs": [
    {
     "name": "stdout",
     "output_type": "stream",
     "text": [
      "Naïve Bayes Precision: 0.6\n",
      "Logistic Regression Precision: 0.714\n",
      "\n",
      "Naïve Bayes Recall: 0.273\n",
      "Logistic Regression Recall: 0.455\n",
      "\n",
      "Naïve Bayes F1-Score: 0.375\n",
      "Logistic Regression F1-Score: 0.556\n"
     ]
    }
   ],
   "source": [
    "# Calculation of Precision\n",
    "nb_precision = precision_score(y_test, y_pred_nb)\n",
    "lr_precision = precision_score(y_test, y_pred_lr)\n",
    "print(\"Naïve Bayes Precision:\", round(nb_precision,3))\n",
    "print(\"Logistic Regression Precision:\", round(lr_precision,3))\n",
    "\n",
    "# Calculation of Recall\n",
    "nb_recall = recall_score(y_test, y_pred_nb)\n",
    "lr_recall = recall_score(y_test, y_pred_lr)\n",
    "print(\"\\nNaïve Bayes Recall:\", round(nb_recall,3))\n",
    "print(\"Logistic Regression Recall:\", round(lr_recall,3))\n",
    "\n",
    "# Calculation of F1-Score\n",
    "nb_f1 = f1_score(y_test, y_pred_nb)\n",
    "lr_f1 = f1_score(y_test, y_pred_lr)\n",
    "print(\"\\nNaïve Bayes F1-Score:\", round(nb_f1,3))\n",
    "print(\"Logistic Regression F1-Score:\", round(lr_f1,3))"
   ]
  },
  {
   "cell_type": "markdown",
   "id": "4650f3ce",
   "metadata": {},
   "source": [
    "## Scoring Method "
   ]
  },
  {
   "cell_type": "markdown",
   "id": "e13e3506",
   "metadata": {},
   "source": [
    ">- This method compares the performance of 2 models using cross-validation\n",
    ">- This assess how well a model can generalize to unseen data\n",
    ">- We calculate mean on the cross validation score to calculate average accuracy of each model"
   ]
  },
  {
   "cell_type": "code",
   "execution_count": 19,
   "id": "6734d0bc",
   "metadata": {
    "scrolled": true
   },
   "outputs": [
    {
     "name": "stdout",
     "output_type": "stream",
     "text": [
      "Naïve Bayes Mean Accuracy: 0.737\n",
      "Logistic Regression Mean Accuracy: 0.76\n"
     ]
    }
   ],
   "source": [
    "# Set up and calculate cross-validation scores\n",
    "cv = StratifiedKFold(n_splits=5, shuffle=True, random_state=42)\n",
    "nb_scores = cross_val_score(nb_model, X, y, scoring='accuracy', cv=cv)\n",
    "lr_scores = cross_val_score(lr_model, X, y, scoring='accuracy', cv=cv)\n",
    "\n",
    "print(\"Naïve Bayes Mean Accuracy:\", round(nb_scores.mean(),3))\n",
    "print(\"Logistic Regression Mean Accuracy:\", round(lr_scores.mean(),3))"
   ]
  },
  {
   "cell_type": "markdown",
   "id": "4bb974f7",
   "metadata": {},
   "source": [
    "## ROC Curve "
   ]
  },
  {
   "cell_type": "markdown",
   "id": "1b5c9890",
   "metadata": {},
   "source": [
    ">- The Receiver Operating Characteristic (ROC) curve is a graphical representation of the trade-off between true positive rate (sensitivity) and false positive rate (1-specificity) across different thresholds for a binary classification model\n",
    ">- The x-axis represents the false positive rate (FPR), which is the proportion of actual negatives incorrectly classified as positives.\n",
    ">- The y-axis represents the true positive rate (TPR), which is the proportion of actual positives correctly classified as positives.\n",
    ">- The area under the ROC curve (AUC-ROC) is a summary metric that quantifies the overall performance of the model across different thresholds. A model with an AUC-ROC closer to 1.0 indicates better discriminatory power.\n",
    ">- If one model's curve consistently lies above the other, it indicates better performance in terms of true positive rate and false positive rate.\n",
    ">- A model with a higher AUC-ROC is generally considered better at distinguishing between classes."
   ]
  },
  {
   "cell_type": "code",
   "execution_count": 20,
   "id": "ef312bb5",
   "metadata": {},
   "outputs": [
    {
     "name": "stdout",
     "output_type": "stream",
     "text": [
      "AUC - Naive Bayes: 0.545\n"
     ]
    },
    {
     "data": {
      "image/png": "[encoded data removed]",
      "text/plain": [
       "<Figure size 1000x400 with 2 Axes>"
      ]
     },
     "metadata": {},
     "output_type": "display_data"
    },
    {
     "name": "stdout",
     "output_type": "stream",
     "text": [
      "AUC - Logistic Regression: 0.63\n"
     ]
    },
    {
     "data": {
      "text/plain": [
       "<Figure size 640x480 with 0 Axes>"
      ]
     },
     "metadata": {},
     "output_type": "display_data"
    }
   ],
   "source": [
    "# Compute Probability predictions and ROC curve\n",
    "#For Naive Bayes Model\n",
    "y_probabilities_nb = nb_model.predict_proba(X_test)[:, 1]\n",
    "fpr_nb, tpr_nb, thresholds_nb = roc_curve(y_test, y_probabilities_nb)\n",
    "roc_auc_nb = auc(fpr_nb, tpr_nb)\n",
    "#For Linear Regression Model\n",
    "y_probabilities_lr = lr_model.predict_proba(X_test)[:, 1]\n",
    "fpr_lr, tpr_lr, thresholds_lr = roc_curve(y_test, y_probabilities_lr)\n",
    "roc_auc_lr = auc(fpr_lr, tpr_lr)\n",
    "\n",
    "plt.figure(figsize=(10, 4))\n",
    "\n",
    "# Plot ROC curve for Naive Bayes Model\n",
    "plt.subplot(1, 2, 1)\n",
    "plt.plot(fpr_nb, tpr_nb, color='darkorange', lw=2, label='Naive Bayes (AUC = {:.2f})'.format(roc_auc_nb))\n",
    "plt.plot([0, 1], [0, 1], color='green', lw=2, linestyle='--', label='Random')\n",
    "plt.xlabel('False Positive Rate')\n",
    "plt.ylabel('True Positive Rate')\n",
    "plt.title('ROC Curve- Naive Bayes')\n",
    "plt.legend(loc='lower right')\n",
    "# Print the AUC value\n",
    "print(\"AUC - Naive Bayes:\", round(roc_auc_nb,3))\n",
    "\n",
    "# Plot ROC curve for Logistic Regression Model\n",
    "plt.subplot(1, 2, 2)\n",
    "plt.plot(fpr_lr, tpr_lr, color='darkorange', lw=2, label='Logistic Regression (AUC = {:.2f})'.format(roc_auc_lr))\n",
    "plt.plot([0, 1], [0, 1], color='green', lw=2, linestyle='--', label='Random')\n",
    "plt.xlabel('False Positive Rate')\n",
    "plt.ylabel('True Positive Rate')\n",
    "plt.title('ROC Curve - Logistic Regression')\n",
    "plt.legend(loc='lower right')\n",
    "plt.show()\n",
    "# Print the AUC value\n",
    "print(\"AUC - Logistic Regression:\", round(roc_auc_lr,3))\n",
    "# Adjust spacing between subplots\n",
    "plt.tight_layout()  \n",
    "plt.show()"
   ]
  },
  {
   "cell_type": "markdown",
   "id": "023c3342",
   "metadata": {},
   "source": [
    "## Confusion Metrix"
   ]
  },
  {
   "cell_type": "markdown",
   "id": "af531850",
   "metadata": {},
   "source": [
    ">- The confusion matrix heatmap helps identify specific types of errors (false positives and false negatives) <br>\n",
    ">- Here, I have created heatmap for the confusion matrix for both models to visualize the true positives, true negatives, false positives, and false negatives"
   ]
  },
  {
   "cell_type": "code",
   "execution_count": 21,
   "id": "192a5910",
   "metadata": {
    "scrolled": true
   },
   "outputs": [
    {
     "data": {
      "image/png": "[encoded data removed]",
      "text/plain": [
       "<Figure size 1000x300 with 4 Axes>"
      ]
     },
     "metadata": {},
     "output_type": "display_data"
    }
   ],
   "source": [
    "conf_matrix_nb = confusion_matrix(y_test, y_pred_nb)\n",
    "conf_matrix_lr = confusion_matrix(y_test, y_pred_lr)\n",
    "\n",
    "plt.figure(figsize=(10, 3))\n",
    "plt.subplot(1, 2, 1)\n",
    "sns.heatmap(conf_matrix_nb, annot=True, fmt='d', cmap='Blues', annot_kws={\"size\": 16})\n",
    "plt.title('Confusion Matrix - Naive Bayes')\n",
    "\n",
    "plt.subplot(1, 2, 2)\n",
    "sns.heatmap(conf_matrix_lr, annot=True, fmt='d', cmap='Blues', annot_kws={\"size\": 16})\n",
    "plt.title('Confusion Matrix - Logistic Regression')\n",
    "\n",
    "plt.show()"
   ]
  },
  {
   "cell_type": "markdown",
   "id": "13ece0cb",
   "metadata": {},
   "source": [
    "## Precision-Recall Curve"
   ]
  },
  {
   "cell_type": "markdown",
   "id": "47809945",
   "metadata": {},
   "source": [
    ">- The precision-recall curve illustrates the trade-offs between precision and recall at different probability thresholds\n",
    ">- A model with a curve that consistently lies above the others indicates better performance "
   ]
  },
  {
   "cell_type": "code",
   "execution_count": 22,
   "id": "5a071cd2",
   "metadata": {},
   "outputs": [
    {
     "data": {
      "image/png": "[encoded data removed]",
      "text/plain": [
       "<Figure size 800x600 with 1 Axes>"
      ]
     },
     "metadata": {},
     "output_type": "display_data"
    }
   ],
   "source": [
    "#Calculate precision and recall for both models and plot the same\n",
    "precision_nb, recall_nb, _ = precision_recall_curve(y_test, y_pred_nb)\n",
    "precision_lr, recall_lr, _ = precision_recall_curve(y_test, y_pred_lr)\n",
    "\n",
    "plt.figure(figsize=(8, 6))\n",
    "plt.plot(recall_nb, precision_nb, color='darkorange', lw=2, label='Naive Bayes')\n",
    "plt.plot(recall_lr, precision_lr, color='blue', lw=2, label='Logistic Regression')\n",
    "plt.xlabel('Recall')\n",
    "plt.ylabel('Precision')\n",
    "plt.title('Precision-Recall Curve Comparison')\n",
    "plt.legend(loc='upper right')\n",
    "plt.show()\n"
   ]
  },
  {
   "cell_type": "markdown",
   "id": "cacd8262",
   "metadata": {},
   "source": [
    "# Conclusion"
   ]
  },
  {
   "cell_type": "code",
   "execution_count": 30,
   "id": "309df8ce",
   "metadata": {},
   "outputs": [
    {
     "data": {
      "text/html": [
       "<table border=\"1\" class=\"dataframe\">\n",
       "  <thead>\n",
       "    <tr style=\"text-align: center;\">\n",
       "      <th>Comparison Metric</th>\n",
       "      <th>Naive Bayes Model</th>\n",
       "      <th>Logistic Regression Model</th>\n",
       "      <th>Inference</th>\n",
       "      <th>Preferred Model</th>\n",
       "    </tr>\n",
       "  </thead>\n",
       "  <tbody>\n",
       "    <tr>\n",
       "      <td>Training Set</td>\n",
       "      <td>Performs well with small training sets due to its simplicity and ability to estimate probabilities with limited data</td>\n",
       "      <td>May require more data to avoid overfitting, especially when dealing with complex relationships</td>\n",
       "      <td>Given this scenario where data size is small, Naive Bayes Model would is preferable over Logistic Regression Model</td>\n",
       "      <td>Naive Bayes</td>\n",
       "    </tr>\n",
       "    <tr>\n",
       "      <td>Assumptions</td>\n",
       "      <td>Assumes that the features are conditionally independent, given the class label whereas in real-world scenarios features are correlated.</td>\n",
       "      <td>Does not make this assumption and can handle correlated features more effectively.</td>\n",
       "      <td>Logistic Regression model is more reliable with respect to reliable in real-world scenarios than Naive Bayes Model</td>\n",
       "      <td>Logistic Regression</td>\n",
       "    </tr>\n",
       "    <tr>\n",
       "      <td>Features Handling</td>\n",
       "      <td>Has probabilistic nature and hence can handle both continuous and categorical feature</td>\n",
       "      <td>Cannot handle categorical features - requires transformation. Yet it can handle continuous features more flexibly using techniques like polynomial terms</td>\n",
       "      <td>Given this scenario with data having no categorical transformation complexity, Logistic Regression Model is preferred over Naive Bayes as it is more flexible</td>\n",
       "      <td>Logistic Regression</td>\n",
       "    </tr>\n",
       "    <tr>\n",
       "      <td>Feature Importance</td>\n",
       "      <td>Does not provide direct interpretability of feature importance</td>\n",
       "      <td>Provides interpretable results as it estimates coefficients/weights for each input variable which indicates the direction and strength of the relationship with the outcome</td>\n",
       "      <td>Logistic Regression Model is preferred over Naive Bayes as it gives Feature Importance which in turn increases the efficiency</td>\n",
       "      <td>Logistic Regression</td>\n",
       "    </tr>\n",
       "    <tr>\n",
       "      <td>Handling Imbalance Data</td>\n",
       "      <td>Can be biased towards the majority class as it assumes equal importance for all features and hence may struggle with imbalanced data</td>\n",
       "      <td>Can handle imbalanced datasets by adjusting the decision threshold/using techniques like class weighting</td>\n",
       "      <td>Logistic Regression Model is preferred over Naive Bayes as it is capable of handling imbalanced data (in case it exists) and reduce error in prediction</td>\n",
       "      <td>Logistic Regression</td>\n",
       "    </tr>\n",
       "    <tr>\n",
       "      <td>Accuracy</td>\n",
       "      <td>62%</td>\n",
       "      <td>69%</td>\n",
       "      <td>It is very evident that the Logistic Regression Model has more accuracy when compared to Naive Bayes Model</td>\n",
       "      <td>Logistic Regression</td>\n",
       "    </tr>\n",
       "    <tr>\n",
       "      <td>Precision</td>\n",
       "      <td>60%</td>\n",
       "      <td>71%</td>\n",
       "      <td>It indicates that the Logistic Regression Model's ability to make positive predictions correctly is higher than that of Naive Bayes Model</td>\n",
       "      <td>Logistic Regression</td>\n",
       "    </tr>\n",
       "    <tr>\n",
       "      <td>Recall</td>\n",
       "      <td>27%</td>\n",
       "      <td>45%</td>\n",
       "      <td>It indicates that the Logistic Regression Model's ability to capture all positive instances among all actual positives correctly than that of Naive Bayes Model</td>\n",
       "      <td>Logistic Regression</td>\n",
       "    </tr>\n",
       "    <tr>\n",
       "      <td>F1 Score</td>\n",
       "      <td>37%</td>\n",
       "      <td>55%</td>\n",
       "      <td>It is evident that Logistic Regression Model has a better balance and hence performs better when compared with Naive Bayes Model</td>\n",
       "      <td>Logistic Regression</td>\n",
       "    </tr>\n",
       "    <tr>\n",
       "      <td>Mean Accuracy - By Scoring Method</td>\n",
       "      <td>74%</td>\n",
       "      <td>76%</td>\n",
       "      <td>This implies that Logistic Regression Model has greater ability to generalize on unseen data when compared with Naive Bayes Model</td>\n",
       "      <td>Logistic Regression</td>\n",
       "    </tr>\n",
       "    <tr>\n",
       "      <td>ROC - AUC</td>\n",
       "      <td>0.55</td>\n",
       "      <td>0.63</td>\n",
       "      <td>This indicates that Area Under Curve for Logistic Regression Model is greater, which makes it a better performer than Naive Bayes Model and also is considered better at distinguishing between classes</td>\n",
       "      <td>Logistic Regression</td>\n",
       "    </tr>\n",
       "    <tr>\n",
       "      <td>Confusion Matrix</td>\n",
       "      <td>[[13  2] [ 8  3]]</td>\n",
       "      <td>[[13  2] [ 6  5]]</td>\n",
       "      <td>Naive Bayes Model has a higher number of false negatives for the positive class, implying it is more prone to misclassification than that of Logistic Regression Model</td>\n",
       "      <td>Logistic Regression</td>\n",
       "    </tr>\n",
       "    <tr>\n",
       "      <td>Precision-Recall Curve</td>\n",
       "      <td>Significant change in curve according to the probability threshold</td>\n",
       "      <td>Can observe a linear change in curve according to the probability threshold and is constantly above the Naive Bayes curve</td>\n",
       "      <td>Logistic Regression Model curve clearly depicts better performance than Naive Bayes Model through its curve characteristics</td>\n",
       "      <td>Logistic Regression</td>\n",
       "    </tr>\n",
       "  </tbody>\n",
       "</table>"
      ],
      "text/plain": [
       "<IPython.core.display.HTML object>"
      ]
     },
     "metadata": {},
     "output_type": "display_data"
    }
   ],
   "source": [
    "# Define table data\n",
    "data = {\n",
    "    \"Comparison Metric\": [\"Training Set\", \"Assumptions\", \"Features Handling\", \"Feature Importance\",\n",
    "                                      \"Handling Imbalance Data\", \"Accuracy\", \"Precision\", \"Recall\", \"F1 Score\",\n",
    "                                      \"Mean Accuracy - By Scoring Method\", \"ROC - AUC\", \"Confusion Matrix\",\n",
    "                                      \"Precision-Recall Curve\"],\n",
    "    \"Naive Bayes Model\": [\n",
    "        \"Performs well with small training sets due to its simplicity and ability to estimate probabilities with limited data\",\n",
    "        \"Assumes that the features are conditionally independent, given the class label whereas in real-world scenarios features are correlated.\",\n",
    "        \"Has probabilistic nature and hence can handle both continuous and categorical feature\",\n",
    "        \"Does not provide direct interpretability of feature importance\",\n",
    "        \"Can be biased towards the majority class as it assumes equal importance for all features and hence may struggle with imbalanced data\",\n",
    "        \"62%\",\n",
    "        \"60%\",\n",
    "        \"27%\",\n",
    "        \"37%\",\n",
    "        \"74%\",\n",
    "        \"0.55\",\n",
    "        \"[[13  2] [ 8  3]]\",\n",
    "        \"Significant change in curve according to the probability threshold\"\n",
    "    ],\n",
    "    \"Logistic Regression Model\": [\n",
    "        \"May require more data to avoid overfitting, especially when dealing with complex relationships\",\n",
    "        \"Does not make this assumption and can handle correlated features more effectively.\",\n",
    "        \"Cannot handle categorical features - requires transformation. Yet it can handle continuous features more flexibly using techniques like polynomial terms\",\n",
    "        \"Provides interpretable results as it estimates coefficients/weights for each input variable which indicates the direction and strength of the relationship with the outcome\",\n",
    "        \"Can handle imbalanced datasets by adjusting the decision threshold/using techniques like class weighting\",\n",
    "        \"69%\",\n",
    "        \"71%\",\n",
    "        \"45%\",\n",
    "        \"55%\",\n",
    "        \"76%\",\n",
    "        \"0.63\",\n",
    "        \"[[13  2] [ 6  5]]\",\n",
    "        \"Can observe a linear change in curve according to the probability threshold and is constantly above the Naive Bayes curve\"\n",
    "    ],\n",
    "    \"Inference\": [\n",
    "        \"Given this scenario where data size is small, Naive Bayes Model would is preferable over Logistic Regression Model\",\n",
    "        \"Logistic Regression model is more reliable with respect to reliable in real-world scenarios than Naive Bayes Model\",\n",
    "        \"Given this scenario with data having no categorical transformation complexity, Logistic Regression Model is preferred over Naive Bayes as it is more flexible\",\n",
    "        \"Logistic Regression Model is preferred over Naive Bayes as it gives Feature Importance which in turn increases the efficiency\",\n",
    "        \"Logistic Regression Model is preferred over Naive Bayes as it is capable of handling imbalanced data (in case it exists) and reduce error in prediction\",\n",
    "        \"It is very evident that the Logistic Regression Model has more accuracy when compared to Naive Bayes Model\",\n",
    "        \"It indicates that the Logistic Regression Model's ability to make positive predictions correctly is higher than that of Naive Bayes Model\",\n",
    "        \"It indicates that the Logistic Regression Model's ability to capture all positive instances among all actual positives correctly than that of Naive Bayes Model\",\n",
    "        \"It is evident that Logistic Regression Model has a better balance and hence performs better when compared with Naive Bayes Model\",\n",
    "        \"This implies that Logistic Regression Model has greater ability to generalize on unseen data when compared with Naive Bayes Model\",\n",
    "        \"This indicates that Area Under Curve for Logistic Regression Model is greater, which makes it a better performer than Naive Bayes Model and also is considered better at distinguishing between classes\",\n",
    "        \"Naive Bayes Model has a higher number of false negatives for the positive class, implying it is more prone to misclassification than that of Logistic Regression Model\",\n",
    "        \"Logistic Regression Model curve clearly depicts better performance than Naive Bayes Model through its curve characteristics\"\n",
    "    ],\n",
    "    \"Preferred Model\": [\"Naive Bayes\", \"Logistic Regression\", \"Logistic Regression\", \"Logistic Regression\",\n",
    "                        \"Logistic Regression\", \"Logistic Regression\", \"Logistic Regression\", \"Logistic Regression\",\n",
    "                        \"Logistic Regression\", \"Logistic Regression\", \"Logistic Regression\", \"Logistic Regression\",\n",
    "                        \"Logistic Regression\"]\n",
    "}\n",
    "\n",
    "# Create DataFrame from the data\n",
    "df = pd.DataFrame(data)\n",
    "\n",
    "# Display the table\n",
    "display(HTML(df.to_html(index=False)))"
   ]
  },
  {
   "cell_type": "markdown",
   "id": "d3af2eb6",
   "metadata": {},
   "source": [
    "......................................................................................................................................................................................................................................................"
   ]
  },
  {
   "cell_type": "markdown",
   "id": "a40dc1a1",
   "metadata": {},
   "source": [
    "**Upon analysing and evaluating both the models thoroughly and fetching insights for every metrices , we can clearly state that for the given dataset Logistic Regression algorithm performs better than Naive Bayes algorithm**"
   ]
  }
 ],
 "metadata": {
  "kernelspec": {
   "display_name": "Python 3 (ipykernel)",
   "language": "python",
   "name": "python3"
  },
  "language_info": {
   "codemirror_mode": {
    "name": "ipython",
    "version": 3
   },
   "file_extension": ".py",
   "mimetype": "text/x-python",
   "name": "python",
   "nbconvert_exporter": "python",
   "pygments_lexer": "ipython3",
   "version": "3.11.5"
  }
 },
 "nbformat": 4,
 "nbformat_minor": 5
}
